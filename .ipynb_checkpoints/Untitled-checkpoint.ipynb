{
 "cells": [
  {
   "cell_type": "code",
   "execution_count": 3,
   "metadata": {},
   "outputs": [],
   "source": [
    "from __future__ import print_function\n",
    "from keras.models import Sequential\n",
    "from keras.layers.core import Dense, Dropout, Activation\n",
    "from keras.preprocessing.text import Tokenizer, one_hot\n",
    "from sklearn.metrics.pairwise import cosine_distances\n",
    "from sklearn.model_selection import train_test_split\n",
    "from sklearn.preprocessing import OneHotEncoder\n",
    "import matplotlib.pyplot as plt\n",
    "import nltk\n",
    "import numpy as np\n",
    "import operator\n"
   ]
  },
  {
   "cell_type": "code",
   "execution_count": 4,
   "metadata": {},
   "outputs": [],
   "source": [
    "\n",
    "np.random.seed(42)\n",
    "\n",
    "BATCH_SIZE = 128\n",
    "NUM_EPOCHS = 20\n",
    "\n",
    "lines = []\n",
    "fin = open(\"alicewonderland.txt\", \"rb\")\n",
    "for line in fin:\n",
    "    line = line.strip().decode(\"ascii\", \"ignore\").encode(\"utf-8\")\n",
    "    if len(line) == 0:\n",
    "        continue\n",
    "    lines.append(line)\n",
    "fin.close()"
   ]
  },
  {
   "cell_type": "code",
   "execution_count": 5,
   "metadata": {},
   "outputs": [
    {
     "ename": "TypeError",
     "evalue": "sequence item 0: expected str instance, bytes found",
     "output_type": "error",
     "traceback": [
      "\u001b[1;31m---------------------------------------------------------------------------\u001b[0m",
      "\u001b[1;31mTypeError\u001b[0m                                 Traceback (most recent call last)",
      "\u001b[1;32m<ipython-input-5-10910c260c39>\u001b[0m in \u001b[0;36m<module>\u001b[1;34m()\u001b[0m\n\u001b[0;32m      1\u001b[0m \u001b[1;33m\u001b[0m\u001b[0m\n\u001b[0;32m      2\u001b[0m \u001b[1;33m\u001b[0m\u001b[0m\n\u001b[1;32m----> 3\u001b[1;33m \u001b[0msents\u001b[0m \u001b[1;33m=\u001b[0m \u001b[0mnltk\u001b[0m\u001b[1;33m.\u001b[0m\u001b[0msent_tokenize\u001b[0m\u001b[1;33m(\u001b[0m\u001b[1;34m\" \"\u001b[0m\u001b[1;33m.\u001b[0m\u001b[0mjoin\u001b[0m\u001b[1;33m(\u001b[0m\u001b[0mlines\u001b[0m\u001b[1;33m)\u001b[0m\u001b[1;33m)\u001b[0m\u001b[1;33m\u001b[0m\u001b[0m\n\u001b[0m\u001b[0;32m      4\u001b[0m \u001b[1;33m\u001b[0m\u001b[0m\n\u001b[0;32m      5\u001b[0m \u001b[0mtokenizer\u001b[0m \u001b[1;33m=\u001b[0m \u001b[0mTokenizer\u001b[0m\u001b[1;33m(\u001b[0m\u001b[1;36m5000\u001b[0m\u001b[1;33m)\u001b[0m  \u001b[1;31m# use top 5000 words only\u001b[0m\u001b[1;33m\u001b[0m\u001b[0m\n",
      "\u001b[1;31mTypeError\u001b[0m: sequence item 0: expected str instance, bytes found"
     ]
    }
   ],
   "source": [
    "\n",
    "\n",
    "sents = nltk.sent_tokenize(\" \".join(lines))\n",
    "\n",
    "tokenizer = Tokenizer(5000)  # use top 5000 words only\n",
    "tokens = tokenizer.fit_on_texts(sents)\n",
    "vocab_size = len(tokenizer.word_counts) + 1\n",
    "\n",
    "xs = []\n",
    "ys = []\n",
    "for sent in sents:\n",
    "    embedding = one_hot(sent, vocab_size)\n",
    "    triples = list(nltk.trigrams(embedding))\n",
    "    w_lefts = [x[0] for x in triples]\n",
    "    w_centers = [x[1] for x in triples]\n",
    "    w_rights = [x[2] for x in triples]\n",
    "    xs.extend(w_centers)\n",
    "    ys.extend(w_lefts)\n",
    "    xs.extend(w_centers)\n",
    "    ys.extend(w_rights)"
   ]
  },
  {
   "cell_type": "code",
   "execution_count": null,
   "metadata": {},
   "outputs": [],
   "source": [
    "ohe = OneHotEncoder(n_values=vocab_size)\n",
    "X = ohe.fit_transform(np.array(xs).reshape(-1, 1)).todense()\n",
    "Y = ohe.fit_transform(np.array(ys).reshape(-1, 1)).todense()\n",
    "Xtrain, Xtest, Ytrain, Ytest = train_test_split(X, Y, test_size=0.3,\n",
    "                                                random_state=42)\n",
    "print(Xtrain.shape, Xtest.shape, Ytrain.shape, Ytest.shape)\n",
    "\n",
    "model = Sequential()\n",
    "model.add(Dense(300, input_shape=(Xtrain.shape[1],)))\n",
    "model.add(Activation(\"relu\"))\n",
    "model.add(Dropout(0.5))\n",
    "model.add(Dense(Ytrain.shape[1]))\n",
    "model.add(Activation(\"softmax\"))\n",
    "\n",
    "model.compile(optimizer=\"rmsprop\", loss=\"categorical_crossentropy\",\n",
    "              metrics=[\"accuracy\"])\n",
    "history = model.fit(Xtrain, Ytrain, batch_size=BATCH_SIZE,\n",
    "                    epochs=NUM_EPOCHS, verbose=1,\n",
    "                    validation_data=(Xtest, Ytest))"
   ]
  },
  {
   "cell_type": "code",
   "execution_count": null,
   "metadata": {},
   "outputs": [],
   "source": [
    "\n",
    "\n",
    "# plot loss function\n",
    "plt.subplot(211)\n",
    "plt.title(\"accuracy\")\n",
    "plt.plot(history.history[\"acc\"], color=\"r\", label=\"train\")\n",
    "plt.plot(history.history[\"val_acc\"], color=\"b\", label=\"validation\")\n",
    "plt.legend(loc=\"best\")\n",
    "\n",
    "plt.subplot(212)\n",
    "plt.title(\"loss\")\n",
    "plt.plot(history.history[\"loss\"], color=\"r\", label=\"train\")\n",
    "plt.plot(history.history[\"val_loss\"], color=\"b\", label=\"validation\")\n",
    "plt.legend(loc=\"best\")\n",
    "\n",
    "plt.tight_layout()\n",
    "plt.show()"
   ]
  },
  {
   "cell_type": "code",
   "execution_count": null,
   "metadata": {},
   "outputs": [],
   "source": [
    "\n",
    "\n",
    "# evaluate model\n",
    "score = model.evaluate(Xtest, Ytest, verbose=1)\n",
    "print(\"Test score: {:.3f}, accuracy: {:.3f}\".format(score[0], score[1]))\n",
    "\n",
    "# using the word2vec model\n",
    "word2idx = tokenizer.word_index\n",
    "idx2word = {v: k for k, v in word2idx.items()}\n",
    "\n",
    "# retrieve the weights from the first dense layer. This will convert\n",
    "# the input vector from a one-hot sum of two words to a dense 300\n",
    "# dimensional representation\n",
    "W, b = model.layers[0].get_weights()"
   ]
  },
  {
   "cell_type": "code",
   "execution_count": null,
   "metadata": {},
   "outputs": [],
   "source": [
    "\n",
    "\n",
    "idx2emb = {}\n",
    "for word in word2idx.keys():\n",
    "    wid = word2idx[word]\n",
    "    vec_in = ohe.fit_transform(np.array(wid)).todense()\n",
    "    vec_emb = np.dot(vec_in, W)\n",
    "    idx2emb[wid] = vec_emb\n",
    "\n",
    "for word in [\"stupid\", \"alice\", \"succeeded\"]:\n",
    "    wid = word2idx[word]\n",
    "    source_emb = idx2emb[wid]\n",
    "    distances = []\n",
    "    for i in range(1, vocab_size):\n",
    "        if i == wid:\n",
    "            continue\n",
    "        target_emb = idx2emb[i]\n",
    "        distances.append(((wid, i),\n",
    "                         cosine_distances(source_emb, target_emb)))\n",
    "    sorted_distances = sorted(distances, key=operator.itemgetter(1))[0:10]\n",
    "    predictions = [idx2word[x[0][1]] for x in sorted_distances]\n",
    "    print(\"{:s} => {:s}\".format(word, \", \".join(predictions)))"
   ]
  },
  {
   "cell_type": "code",
   "execution_count": null,
   "metadata": {},
   "outputs": [],
   "source": []
  }
 ],
 "metadata": {
  "kernelspec": {
   "display_name": "Python 3",
   "language": "python",
   "name": "python3"
  },
  "language_info": {
   "codemirror_mode": {
    "name": "ipython",
    "version": 3
   },
   "file_extension": ".py",
   "mimetype": "text/x-python",
   "name": "python",
   "nbconvert_exporter": "python",
   "pygments_lexer": "ipython3",
   "version": "3.6.2"
  }
 },
 "nbformat": 4,
 "nbformat_minor": 2
}
